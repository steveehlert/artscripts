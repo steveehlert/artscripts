{
 "cells": [
  {
   "cell_type": "code",
   "execution_count": 5,
   "metadata": {},
   "outputs": [],
   "source": [
    "%matplotlib inline"
   ]
  },
  {
   "cell_type": "code",
   "execution_count": 3,
   "metadata": {},
   "outputs": [],
   "source": [
    "def expected_sky_count(mu_n, k):\n",
    "    k = int(k)\n",
    "    mu_s_list = np.zeros(k+1)\n",
    "    weights_list = np.zeros(k+1)\n",
    "    mu_s_bar_0 = (-1. * mu_n + np.sqrt(mu_n**2 + 4.) )/2.\n",
    "    # zero-count prob\n",
    "    prob_0 = (1. - mu_n/np.sqrt(mu_n**2 + 4.) )**k\n",
    "    mu_s_list[0] = mu_s_bar_0\n",
    "    weights_list[0] = prob_0\n",
    "    for k_n in np.arange(1,k+1):\n",
    "        mu_s_bar = (k -k_n) / k_n * mu_n\n",
    "        prob = (k_n**k_n * (k - k_n)**(k - k_n))/(k**k)\n",
    "        mu_s_list[k_n] = mu_s_bar\n",
    "        weights_list[k_n] = prob\n",
    "    mu_s_star = np.average(mu_s_list,weights=weights_list)\n",
    "    err_mu = np.sqrt(np.cov(mu_s_list,aweights = weights_list))\n",
    "    return mu_s_star, err_mu\n"
   ]
  },
  {
   "cell_type": "code",
   "execution_count": 4,
   "metadata": {},
   "outputs": [],
   "source": [
    "mu_n_list = np.linspace(0.1, 2., 100)"
   ]
  },
  {
   "cell_type": "code",
   "execution_count": 6,
   "metadata": {},
   "outputs": [],
   "source": [
    "k = 10\n",
    "mu_starlist = np.zeros_like(mu_n_list)\n",
    "errlist = np.zeros_like(mu_n_list)\n",
    "for i, mu_n in enumerate(mu_n_list):\n",
    "    mu_starlist[i], errlist[i] = expected_sky_count(mu_n, k)\n",
    "    "
   ]
  },
  {
   "cell_type": "code",
   "execution_count": 9,
   "metadata": {},
   "outputs": [
    {
     "data": {
      "text/plain": [
       "Text(0, 0.5, 'mu_star')"
      ]
     },
     "execution_count": 9,
     "metadata": {},
     "output_type": "execute_result"
    },
    {
     "data": {
      "image/png": "[encoded data removed]",
      "text/plain": [
       "<Figure size 432x288 with 1 Axes>"
      ]
     },
     "metadata": {
      "needs_background": "light"
     },
     "output_type": "display_data"
    }
   ],
   "source": [
    "plt.plot(mu_n_list, mu_starlist,'.')\n",
    "plt.xlabel('mu_n')\n",
    "plt.ylabel('mu_star')"
   ]
  },
  {
   "cell_type": "code",
   "execution_count": 10,
   "metadata": {},
   "outputs": [
    {
     "data": {
      "text/plain": [
       "Text(0, 0.5, 'err_mu_star')"
      ]
     },
     "execution_count": 10,
     "metadata": {},
     "output_type": "execute_result"
    },
    {
     "data": {
      "image/png": "[encoded data removed]",
      "text/plain": [
       "<Figure size 432x288 with 1 Axes>"
      ]
     },
     "metadata": {
      "needs_background": "light"
     },
     "output_type": "display_data"
    }
   ],
   "source": [
    "plt.plot(mu_n_list, errlist,'.')\n",
    "plt.xlabel('mu_n')\n",
    "plt.ylabel('err_mu_star')"
   ]
  },
  {
   "cell_type": "code",
   "execution_count": null,
   "metadata": {},
   "outputs": [],
   "source": []
  }
 ],
 "metadata": {
  "kernelspec": {
   "display_name": "Python 3",
   "language": "python",
   "name": "python3"
  },
  "language_info": {
   "codemirror_mode": {
    "name": "ipython",
    "version": 3
   },
   "file_extension": ".py",
   "mimetype": "text/x-python",
   "name": "python",
   "nbconvert_exporter": "python",
   "pygments_lexer": "ipython3",
   "version": "3.6.9"
  }
 },
 "nbformat": 4,
 "nbformat_minor": 4
}
